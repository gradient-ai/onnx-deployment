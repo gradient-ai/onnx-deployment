{
 "cells": [
  {
   "cell_type": "code",
   "execution_count": null,
   "id": "dfe8c556-f618-40ea-aebf-874c92ff8317",
   "metadata": {
    "collapsed": false,
    "gradient": {
     "editing": false,
     "id": "dfe8c556-f618-40ea-aebf-874c92ff8317",
     "kernelId": "75dffc8a-2e1b-482d-8e08-2b60cb6dcb32",
     "source_hidden": false
    }
   },
   "outputs": [],
   "source": [
    "!pip install matplotlib"
   ]
  },
  {
   "cell_type": "code",
   "execution_count": null,
   "id": "06e30d08-b417-403f-910c-bc6d4a2ec7fe",
   "metadata": {
    "collapsed": false,
    "gradient": {
     "editing": false,
     "id": "06e30d08-b417-403f-910c-bc6d4a2ec7fe",
     "kernelId": "75dffc8a-2e1b-482d-8e08-2b60cb6dcb32",
     "source_hidden": false
    }
   },
   "outputs": [],
   "source": [
    "import tensorflow as tf\n",
    "import numpy as np\n",
    "import requests\n",
    "import json\n",
    "import sys\n",
    "import matplotlib.pyplot as plt\n",
    "\n",
    "fashion_mnist = tf.keras.datasets.fashion_mnist\n",
    "(train_images, train_labels), (test_images, test_labels) = fashion_mnist.load_data()\n",
    "\n",
    "train_images = train_images / 255.0\n",
    "test_images = test_images / 255.0\n",
    "\n",
    "\n",
    "data = {\n",
    "    'signature_name': 'serving_default',\n",
    "    'instances': {\n",
    "        'image_data': test_images[:5].tolist()\n",
    "    }\n",
    "}\n",
    "\n",
    "predictions = requests.post(\n",
    "    f'{sys.argv[1]}/v1/models/fashion-mnist:predict',\n",
    "    json=data\n",
    ")\n",
    "predictions = json.loads(predictions.text)[0]\n",
    "\n",
    "class_names = [\n",
    "    'T-shirt/top',\n",
    "    'Trouser',\n",
    "    'Pullover',\n",
    "    'Dress',\n",
    "    'Coat',\n",
    "    'Sandal',\n",
    "    'Shirt',\n",
    "    'Sneaker',\n",
    "    'Bag',\n",
    "    'Ankle boot'\n",
    "]\n",
    "\n",
    "print(f'Predicted class: {class_names[np.argmax(predictions[0])]}')\n",
    "print(f'Actual class: {class_names[test_labels[0]]}')\n",
    "\n",
    "plt.figure()\n",
    "plt.imshow(test_images[0] * 255.0)\n",
    "plt.show()"
   ]
  },
  {
   "cell_type": "code",
   "execution_count": null,
   "id": "96e3f379-b510-4a80-a8c4-a575552739c5",
   "metadata": {
    "collapsed": false,
    "gradient": {
     "editing": false,
     "id": "96e3f379-b510-4a80-a8c4-a575552739c5",
     "kernelId": "75dffc8a-2e1b-482d-8e08-2b60cb6dcb32",
     "source_hidden": false
    }
   },
   "outputs": [],
   "source": []
  }
 ],
 "metadata": {},
 "nbformat": 4,
 "nbformat_minor": 5
}
